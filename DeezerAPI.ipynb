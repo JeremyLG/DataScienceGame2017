{
 "cells": [
  {
   "cell_type": "markdown",
   "metadata": {},
   "source": [
    "# DEEZER API CODE\n",
    "## Import des datas et librairies\n",
    "En Python2 only, pour pouvoir supporter la librairie unirest !"
   ]
  },
  {
   "cell_type": "code",
   "execution_count": 1,
   "metadata": {
    "collapsed": true
   },
   "outputs": [],
   "source": [
    "import unirest\n",
    "import pandas as pd\n",
    "import numpy as np\n",
    "import sys\n",
    "\n",
    "df = pd.read_csv('./dsg/train.csv')\n",
    "\n",
    "musics = pd.DataFrame(columns = ['song_id','bpm','rank','gain','lyrics_explicits'])\n",
    "\n",
    "artists = pd.DataFrame(columns = ['artist_id','nb_fan','nb_album','radio'])"
   ]
  },
  {
   "cell_type": "markdown",
   "metadata": {},
   "source": [
    "## Requêtes des infos des musiques\n",
    "ça peut crash de manière random autour de 10 000 et 50 000 calls"
   ]
  },
  {
   "cell_type": "code",
   "execution_count": 2,
   "metadata": {
    "collapsed": true
   },
   "outputs": [],
   "source": [
    "def get_track(ids):\n",
    "    global musics\n",
    "    compteur = 0\n",
    "    compteur2 = 0\n",
    "    for idd in ids:\n",
    "        response = unirest.get(\"https://deezerdevs-deezer.p.mashape.com/track/\"+str(idd),\n",
    "        headers={\n",
    "        \"X-Mashape-Key\": \"eb4DzzTnELmshvFUju71GssNIry0p1tmYUajsnNUoQx2DDVkUN\",\n",
    "        \"Accept\": \"text/plain\"\n",
    "        })\n",
    "        try:\n",
    "            musics.loc[len(musics)] = [idd,response.body['bpm'],response.body['rank'],response.body['gain'],response.body['explicit_lyrics']]\n",
    "            #print([len(musics)-1,idd,response.body['bpm'],response.body['rank'],response.body['gain'],response.body['explicit_lyrics']])\n",
    "        except KeyError:\n",
    "            musics.loc[len(musics)] = [idd,np.nan,np.nan,np.nan,np.nan]\n",
    "            #print([len(musics)-1,idd,np.nan,np.nan,np.nan,np.nan])\n",
    "        compteur += 1\n",
    "        if compteur % 50000 == 0:\n",
    "            compteur2 +=1\n",
    "            musics.to_csv(\"./enrich\"+str(compteur2*compteur)+\".csv\")\n",
    "            compteur = 0\n",
    "            musics = pd.DataFrame(columns = ['song_id','bpm','rank','gain','lyrics_explicits'])"
   ]
  },
  {
   "cell_type": "code",
   "execution_count": null,
   "metadata": {
    "collapsed": true
   },
   "outputs": [],
   "source": [
    "get_track(df.media_id.unique())"
   ]
  },
  {
   "cell_type": "markdown",
   "metadata": {},
   "source": [
    "## Requêtes des infos des artistes"
   ]
  },
  {
   "cell_type": "code",
   "execution_count": 3,
   "metadata": {
    "collapsed": true
   },
   "outputs": [],
   "source": [
    "def get_artists(ids):\n",
    "    global artists\n",
    "    for idd in ids:\n",
    "        response = unirest.get(\"https://deezerdevs-deezer.p.mashape.com/artist/\"+str(idd),\n",
    "        headers={\n",
    "        \"X-Mashape-Key\": \"eb4DzzTnELmshvFUju71GssNIry0p1tmYUajsnNUoQx2DDVkUN\",\n",
    "        \"Accept\": \"text/plain\"\n",
    "        })\n",
    "        try:\n",
    "            artists.loc[len(artists)] = [idd,response.body['nb_fan'],response.body['nb_album'],response.body['radio']]\n",
    "        except KeyError:\n",
    "            artists.loc[len(artists)] = [idd,np.nan,np.nan,np.nan]"
   ]
  },
  {
   "cell_type": "code",
   "execution_count": null,
   "metadata": {
    "collapsed": true
   },
   "outputs": [],
   "source": [
    "get_artists(df.artist_id.unique())"
   ]
  },
  {
   "cell_type": "code",
   "execution_count": null,
   "metadata": {
    "collapsed": true
   },
   "outputs": [],
   "source": [
    "artists.to_csv('./dsg/musics.csv',index=False)"
   ]
  }
 ],
 "metadata": {
  "kernelspec": {
   "display_name": "Python 2",
   "language": "python",
   "name": "python2"
  },
  "language_info": {
   "codemirror_mode": {
    "name": "ipython",
    "version": 2
   },
   "file_extension": ".py",
   "mimetype": "text/x-python",
   "name": "python",
   "nbconvert_exporter": "python",
   "pygments_lexer": "ipython2",
   "version": "2.7"
  }
 },
 "nbformat": 4,
 "nbformat_minor": 2
}
